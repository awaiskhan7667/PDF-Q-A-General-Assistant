{
 "cells": [
  {
   "cell_type": "code",
   "execution_count": 70,
   "id": "fe5e3e6f",
   "metadata": {},
   "outputs": [
    {
     "name": "stdout",
     "output_type": "stream",
     "text": [
      "I am doing well, thank you.\n"
     ]
    }
   ],
   "source": [
    "from langchain.prompts import PromptTemplate\n",
    "from langchain_openai import ChatOpenAI  # 👈 instead of langchain.llms.OpenAI\n",
    "from langchain.chains import LLMChain\n",
    "from dotenv import load_dotenv\n",
    "import os\n",
    "load_dotenv()  # take environment variables from .env.\n",
    "api_key = os.getenv(\"OPENAI_API_KEY\")\n",
    "# Step 1: Define the prompt\n",
    "\n",
    "prompt = PromptTemplate.from_template(\"Answer the following question clearly and concisely:\\n\\n{question}\")\n",
    "\n",
    "# Step 2: Define the LLM\n",
    "llm = ChatOpenAI(\n",
    "    temperature=0.7,\n",
    "    openai_api_key=api_key,\n",
    "    model=\"gpt-3.5-turbo\"\n",
    "    )\n",
    "\n",
    "# Step 3: Create the chain\n",
    "chain = LLMChain(llm=llm, prompt=prompt)\n",
    "\n",
    "# Step 4: Run it\n",
    "user_question = \"How are you ?\"\n",
    "result = chain.invoke({\"question\": user_question}) \n",
    "print(result[\"text\"].strip()) \n"
   ]
  },
  {
   "cell_type": "code",
   "execution_count": null,
   "id": "7e7e4ca8",
   "metadata": {},
   "outputs": [],
   "source": [
    "import os\n",
    "from dotenv import load_dotenv\n",
    "from langchain.memory import ConversationBufferMemory\n",
    "from langchain.chains import ConversationalRetrievalChain\n",
    "from langchain_community.document_loaders import PyPDFLoader\n",
    "from langchain.text_splitter import RecursiveCharacterTextSplitter\n",
    "from langchain_openai import OpenAIEmbeddings, ChatOpenAI\n",
    "from langchain.vectorstores import FAISS\n",
    "\n",
    "# Load API key\n",
    "load_dotenv()\n",
    "OPENAI_API_KEY = os.getenv(\"OPENAI_API_KEY\")\n",
    "\n",
    "# Global variables\n",
    "vectorstore = None\n",
    "qa_chain = None\n",
    "chat_history = []\n",
    "llm = None  # ✅ Define globally\n",
    "\n",
    "def init_llm():\n",
    "    global llm\n",
    "    if llm is None:\n",
    "        llm = ChatOpenAI(openai_api_key=OPENAI_API_KEY, model=\"gpt-3.5-turbo\")\n",
    "\n",
    "def upload_pdf(file_path):\n",
    "    global vectorstore, qa_chain\n",
    "\n",
    "    try:\n",
    "        init_llm()  # ✅ Ensure LLM is initialized\n",
    "\n",
    "        # Load the PDF\n",
    "        loader = PyPDFLoader(file_path)\n",
    "        documents = loader.load()\n",
    "\n",
    "        # Split into chunks\n",
    "        splitter = RecursiveCharacterTextSplitter(chunk_size=500, chunk_overlap=50)\n",
    "        chunks = splitter.split_documents(documents)\n",
    "\n",
    "        # Embeddings + FAISS\n",
    "        embeddings = OpenAIEmbeddings(openai_api_key=OPENAI_API_KEY)\n",
    "        vectorstore = FAISS.from_documents(chunks, embeddings)\n",
    "\n",
    "        retriever = vectorstore.as_retriever()\n",
    "        memory = ConversationBufferMemory(memory_key=\"chat_history\", return_messages=True)\n",
    "        qa_chain = ConversationalRetrievalChain.from_llm(\n",
    "            llm=llm,\n",
    "            retriever=retriever,\n",
    "            memory=memory\n",
    "        )\n",
    "        print(\"✅ qa_chain created:\", qa_chain is not None)\n",
    "        return \"✅ PDF uploaded and indexed successfully!\"\n",
    "    except Exception as e:\n",
    "        return f\"❌ Error: {str(e)}\"\n",
    "\n",
    "def ask_question(query):\n",
    "    global qa_chain\n",
    "    if qa_chain is None:\n",
    "        return \"❗ Please upload a PDF first.\"\n",
    "    try:\n",
    "        answer = qa_chain.run(query)\n",
    "        return answer\n",
    "    except Exception as e:\n",
    "        return f\"❌ Error: {str(e)}\"\n",
    "\n",
    "def general_chatbot_response(user_input):\n",
    "    try:\n",
    "        init_llm()\n",
    "\n",
    "        prompt = f\"You are a helpful assistant. Answer the following:\\n\\n{user_input}\"\n",
    "        response = llm.invoke(prompt)  # works because llm is global now\n",
    "        chat_history.append((\"You: \" + user_input, \"Bot: \" + str(response.content)))\n",
    "        return response.content\n",
    "    \n",
    "    except Exception as e:\n",
    "        return f\"❌ Error: {str(e)}\"\n",
    "    \n",
    "def clear_chat_history():\n",
    "    global chat_history\n",
    "    chat_history = []\n",
    "    return \"🧹 Chat history cleared!\"\n",
    "\n",
    "\n",
    "def get_chat_history():\n",
    "    if not chat_history:\n",
    "        return \"No chat history yet.\"\n",
    "    return \"\\n\\n\".join([f\"{q}\\n{a}\" for q, a in chat_history])\n"
   ]
  },
  {
   "cell_type": "code",
   "execution_count": 82,
   "id": "6a326d68",
   "metadata": {},
   "outputs": [
    {
     "name": "stdout",
     "output_type": "stream",
     "text": [
      "* Running on local URL:  http://127.0.0.1:7874\n",
      "* To create a public link, set `share=True` in `launch()`.\n"
     ]
    },
    {
     "data": {
      "text/html": [
       "<div><iframe src=\"http://127.0.0.1:7874/\" width=\"100%\" height=\"500\" allow=\"autoplay; camera; microphone; clipboard-read; clipboard-write;\" frameborder=\"0\" allowfullscreen></iframe></div>"
      ],
      "text/plain": [
       "<IPython.core.display.HTML object>"
      ]
     },
     "metadata": {},
     "output_type": "display_data"
    },
    {
     "data": {
      "text/plain": []
     },
     "execution_count": 82,
     "metadata": {},
     "output_type": "execute_result"
    }
   ],
   "source": [
    "# -------- Gradio UI --------\n",
    "import gradio as gr\n",
    "with gr.Blocks() as demo:\n",
    "    gr.Markdown(\"## 🧠 Chatbot App (PDF Q&A + General Assistant)\")\n",
    "\n",
    "    with gr.Tab(\"📄 Chat with PDF\"):\n",
    "        with gr.Row():\n",
    "            file_input = gr.File(label=\"Upload PDF\", type=\"filepath\", file_types=[\".pdf\"])\n",
    "            upload_output = gr.Textbox(label=\"Upload Status\", lines=1)\n",
    "        file_input.change(upload_pdf, inputs=file_input, outputs=upload_output)\n",
    "\n",
    "        with gr.Row():\n",
    "            pdf_question = gr.Textbox(label=\"Ask a question about the PDF\")\n",
    "            pdf_answer = gr.Textbox(label=\"Answer\", lines=5)\n",
    "        pdf_question.submit(general_chatbot_response, inputs=pdf_question, outputs=pdf_answer)\n",
    "\n",
    "    with gr.Tab(\"💬 General Q&A Chatbot\"):\n",
    "        with gr.Row():\n",
    "            user_question = gr.Textbox(label=\"Ask anything\")\n",
    "            general_answer = gr.Textbox(label=\"Bot Answer\", lines=5)\n",
    "        user_question.submit(general_chatbot_response, inputs=user_question, outputs=general_answer)\n",
    "    with gr.Row():\n",
    "        show_history_btn = gr.Button(\"📜 Show Chat History\")\n",
    "        history_output = gr.Textbox(label=\"Chat History\", lines=10)\n",
    "        user_question.submit(general_chatbot_response, inputs=user_question, outputs=general_answer)\n",
    "        show_history_btn.click(get_chat_history, inputs=[], outputs=history_output)\n",
    "        clear_history_btn = gr.Button(\"🧹 Clear Chat History\")\n",
    "        clear_history_btn.click(clear_chat_history, inputs=[], outputs=history_output)\n",
    "\n",
    "\n",
    "\n",
    "\n",
    "demo.launch()"
   ]
  },
  {
   "cell_type": "code",
   "execution_count": null,
   "id": "ea38bce5",
   "metadata": {},
   "outputs": [],
   "source": []
  }
 ],
 "metadata": {
  "kernelspec": {
   "display_name": "simple_chatbot_env",
   "language": "python",
   "name": "python3"
  },
  "language_info": {
   "codemirror_mode": {
    "name": "ipython",
    "version": 3
   },
   "file_extension": ".py",
   "mimetype": "text/x-python",
   "name": "python",
   "nbconvert_exporter": "python",
   "pygments_lexer": "ipython3",
   "version": "3.13.1"
  }
 },
 "nbformat": 4,
 "nbformat_minor": 5
}
