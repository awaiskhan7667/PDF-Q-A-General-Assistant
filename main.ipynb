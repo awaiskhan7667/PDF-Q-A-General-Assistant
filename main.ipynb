{
 "cells": [
  {
   "cell_type": "code",
   "execution_count": 2,
   "id": "fe5e3e6f",
   "metadata": {},
   "outputs": [
    {
     "name": "stdout",
     "output_type": "stream",
     "text": [
      "\n",
      "\n",
      "I am an AI and do not have the ability to feel emotions. I am functioning as expected and ready to assist you with any tasks you need help with. Thank you for asking.\n"
     ]
    }
   ],
   "source": [
    "from langchain.prompts import PromptTemplate\n",
    "from langchain.llms import OpenAI\n",
    "from langchain.chains import LLMChain\n",
    "from dotenv import load_dotenv\n",
    "import os\n",
    "load_dotenv()  # take environment variables from .env.\n",
    "api_key = os.getenv(\"OPENAI_API_KEY\")\n",
    "# Step 1: Define the prompt\n",
    "# prompt = PromptTemplate.from_template(\"Translating the sentence: {sentence} into any language of your choice.\")\n",
    "# prompt = PromptTemplate.from_template(\"Rewrting the sentence more professionally: {sentence}\")\n",
    "\n",
    "prompt = PromptTemplate.from_template(\"Answer the following question clearly and concisely:\\n\\n{question}\")\n",
    "\n",
    "# Step 2: Define the LLM\n",
    "llm = OpenAI(\n",
    "    temperature=0.7,\n",
    "    openai_api_key=api_key\n",
    "    )\n",
    "\n",
    "# Step 3: Create the chain\n",
    "chain = LLMChain(llm=llm, prompt=prompt)\n",
    "\n",
    "# Step 4: Run it\n",
    "user_question = input(\"Enter your question: \")\n",
    "result = chain.run(question=user_question)\n",
    "print(result)\n"
   ]
  },
  {
   "cell_type": "code",
   "execution_count": 17,
   "id": "7e7e4ca8",
   "metadata": {},
   "outputs": [],
   "source": [
    "import os\n",
    "from dotenv import load_dotenv\n",
    "from langchain_community.document_loaders import PyPDFLoader\n",
    "from langchain.text_splitter import RecursiveCharacterTextSplitter\n",
    "from langchain_openai import OpenAIEmbeddings,ChatOpenAI\n",
    "from langchain.vectorstores import FAISS\n",
    "from langchain.chains import RetrievalQA\n",
    "\n",
    "\n",
    "load_dotenv()\n",
    "OPENAI_API_KEY = os.getenv(\"OPENAI_API_KEY\")\n",
    "\n",
    "# Global vectorstore to store indexed documents\n",
    "vectorstore = None\n",
    "\n",
    "def upload_pdf(file_path):\n",
    "    global vectorstore\n",
    "\n",
    "    try:\n",
    "        # Load the PDF\n",
    "        loader = PyPDFLoader(file_path)\n",
    "        documents = loader.load()\n",
    "\n",
    "        # Split the text into manageable chunks\n",
    "        splitter = RecursiveCharacterTextSplitter(chunk_size=500, chunk_overlap=50)\n",
    "        chunks = splitter.split_documents(documents)\n",
    "\n",
    "        # Generate embeddings\n",
    "        embeddings = OpenAIEmbeddings(openai_api_key=OPENAI_API_KEY)\n",
    "        vectorstore = FAISS.from_documents(chunks, embeddings)\n",
    "\n",
    "        retriever = vectorstore.as_retriever()\n",
    "        llm = ChatOpenAI(openai_api_key=OPENAI_API_KEY, model=\"gpt-3.5-turbo\")\n",
    "        qa_chain = RetrievalQA.from_chain_type(llm=llm, retriever=retriever)\n",
    "\n",
    "        return \"✅ PDF uploaded and indexed successfully!\"\n",
    "    except Exception as e:\n",
    "        return f\"❌ Error: {str(e)}\"\n",
    "    \n",
    "def ask_question(query):\n",
    "    if qa_chain is None:\n",
    "        return \"❗ Please upload a PDF first.\"\n",
    "    try:\n",
    "        answer = qa_chain.run(query)\n",
    "        return answer\n",
    "    except Exception as e:\n",
    "        return f\"❌ Error: {str(e)}\"\n",
    "    # Its a general Chatbot in \n",
    "\n",
    "chat_history = []  # list of (user, bot) tuples\n",
    "def general_chatbot_response(user_input):\n",
    "    try:\n",
    "        prompt = f\"You are a helpful assistant. Answer the following:\\n\\n{user_input}\"\n",
    "        response = llm.invoke(prompt)\n",
    "        # Store Q&A in history\n",
    "        chat_history.append((\"You: \" + user_input, \"Bot: \" + str(response)))\n",
    "        return response\n",
    "    except Exception as e:\n",
    "        return f\"❌ Error: {str(e)}\"\n",
    "    \n",
    "\n",
    "def get_chat_history():\n",
    "    if not chat_history:\n",
    "        return \"No chat history yet.\"\n",
    "    return \"\\n\\n\".join([f\"{q}\\n{a}\" for q, a in chat_history])\n"
   ]
  },
  {
   "cell_type": "code",
   "execution_count": 20,
   "id": "6a326d68",
   "metadata": {},
   "outputs": [
    {
     "name": "stdout",
     "output_type": "stream",
     "text": [
      "* Running on local URL:  http://127.0.0.1:7866\n",
      "* To create a public link, set `share=True` in `launch()`.\n"
     ]
    },
    {
     "data": {
      "text/html": [
       "<div><iframe src=\"http://127.0.0.1:7866/\" width=\"100%\" height=\"500\" allow=\"autoplay; camera; microphone; clipboard-read; clipboard-write;\" frameborder=\"0\" allowfullscreen></iframe></div>"
      ],
      "text/plain": [
       "<IPython.core.display.HTML object>"
      ]
     },
     "metadata": {},
     "output_type": "display_data"
    },
    {
     "data": {
      "text/plain": []
     },
     "execution_count": 20,
     "metadata": {},
     "output_type": "execute_result"
    }
   ],
   "source": [
    "# -------- Gradio UI --------\n",
    "with gr.Blocks() as demo:\n",
    "    gr.Markdown(\"## 🧠 Chatbot App (PDF Q&A + General Assistant)\")\n",
    "\n",
    "    with gr.Tab(\"📄 Chat with PDF\"):\n",
    "        with gr.Row():\n",
    "            file_input = gr.File(label=\"Upload PDF\", type=\"filepath\", file_types=[\".pdf\"])\n",
    "            upload_output = gr.Textbox(label=\"Upload Status\", lines=1)\n",
    "        file_input.change(upload_pdf, inputs=file_input, outputs=upload_output)\n",
    "\n",
    "        with gr.Row():\n",
    "            pdf_question = gr.Textbox(label=\"Ask a question about the PDF\")\n",
    "            pdf_answer = gr.Textbox(label=\"Answer\", lines=5)\n",
    "        pdf_question.submit(general_chatbot_response, inputs=pdf_question, outputs=pdf_answer)\n",
    "\n",
    "    with gr.Tab(\"💬 General Q&A Chatbot\"):\n",
    "        with gr.Row():\n",
    "            user_question = gr.Textbox(label=\"Ask anything\")\n",
    "            general_answer = gr.Textbox(label=\"Bot Answer\", lines=5)\n",
    "        user_question.submit(general_chatbot_response, inputs=user_question, outputs=general_answer)\n",
    "    with gr.Row():\n",
    "        show_history_btn = gr.Button(\"📜 Show Chat History\")\n",
    "        history_output = gr.Textbox(label=\"Chat History\", lines=10)\n",
    "        user_question.submit(general_chatbot_response, inputs=user_question, outputs=general_answer)\n",
    "        show_history_btn.click(get_chat_history, inputs=[], outputs=history_output)\n",
    "\n",
    "\n",
    "\n",
    "demo.launch()"
   ]
  },
  {
   "cell_type": "code",
   "execution_count": null,
   "id": "e4828bcf",
   "metadata": {},
   "outputs": [],
   "source": []
  },
  {
   "cell_type": "code",
   "execution_count": null,
   "id": "a7fc00f0",
   "metadata": {},
   "outputs": [],
   "source": []
  },
  {
   "cell_type": "code",
   "execution_count": null,
   "id": "e7f4b48b",
   "metadata": {},
   "outputs": [],
   "source": []
  },
  {
   "cell_type": "code",
   "execution_count": null,
   "id": "f5f4d1de",
   "metadata": {},
   "outputs": [],
   "source": []
  },
  {
   "cell_type": "code",
   "execution_count": null,
   "id": "b741235a",
   "metadata": {},
   "outputs": [],
   "source": []
  },
  {
   "cell_type": "code",
   "execution_count": null,
   "id": "1f9f790c",
   "metadata": {},
   "outputs": [],
   "source": []
  },
  {
   "cell_type": "code",
   "execution_count": null,
   "id": "07e9680c",
   "metadata": {},
   "outputs": [],
   "source": []
  },
  {
   "cell_type": "code",
   "execution_count": null,
   "id": "9fd76d98",
   "metadata": {},
   "outputs": [],
   "source": []
  },
  {
   "cell_type": "code",
   "execution_count": null,
   "id": "130616f0",
   "metadata": {},
   "outputs": [],
   "source": []
  },
  {
   "cell_type": "code",
   "execution_count": null,
   "id": "d6e70908",
   "metadata": {},
   "outputs": [],
   "source": []
  },
  {
   "cell_type": "code",
   "execution_count": null,
   "id": "07979585",
   "metadata": {},
   "outputs": [],
   "source": []
  },
  {
   "cell_type": "code",
   "execution_count": null,
   "id": "4e583a14",
   "metadata": {},
   "outputs": [],
   "source": []
  },
  {
   "cell_type": "code",
   "execution_count": null,
   "id": "ea1a4659",
   "metadata": {},
   "outputs": [],
   "source": []
  },
  {
   "cell_type": "code",
   "execution_count": null,
   "id": "c70a8830",
   "metadata": {},
   "outputs": [],
   "source": []
  },
  {
   "cell_type": "code",
   "execution_count": null,
   "id": "8bf77f0c",
   "metadata": {},
   "outputs": [],
   "source": []
  },
  {
   "cell_type": "code",
   "execution_count": null,
   "id": "28a4ba8f",
   "metadata": {},
   "outputs": [],
   "source": []
  },
  {
   "cell_type": "code",
   "execution_count": null,
   "id": "01fd463b",
   "metadata": {},
   "outputs": [],
   "source": []
  },
  {
   "cell_type": "code",
   "execution_count": null,
   "id": "8669ffc2",
   "metadata": {},
   "outputs": [],
   "source": []
  },
  {
   "cell_type": "code",
   "execution_count": null,
   "id": "12c03419",
   "metadata": {},
   "outputs": [],
   "source": []
  },
  {
   "cell_type": "code",
   "execution_count": null,
   "id": "3e0998fc",
   "metadata": {},
   "outputs": [],
   "source": []
  }
 ],
 "metadata": {
  "kernelspec": {
   "display_name": "simple_chatbot_env",
   "language": "python",
   "name": "python3"
  },
  "language_info": {
   "codemirror_mode": {
    "name": "ipython",
    "version": 3
   },
   "file_extension": ".py",
   "mimetype": "text/x-python",
   "name": "python",
   "nbconvert_exporter": "python",
   "pygments_lexer": "ipython3",
   "version": "3.13.1"
  }
 },
 "nbformat": 4,
 "nbformat_minor": 5
}
